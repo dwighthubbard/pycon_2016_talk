{
 "cells": [
  {
   "cell_type": "code",
   "execution_count": null,
   "metadata": {
    "collapsed": false
   },
   "outputs": [],
   "source": [
    "with open('/boot/config.txt', 'a') as file_handle:\n",
    "    file_handle.write('\\ndtoverlay=w1-gpio\\n')"
   ]
  },
  {
   "cell_type": "code",
   "execution_count": 2,
   "metadata": {
    "collapsed": false
   },
   "outputs": [
    {
     "name": "stdout",
     "output_type": "stream",
     "text": [
      "28-000006b63824\r\n"
     ]
    }
   ],
   "source": [
    "!cat /sys/bus/w1/devices/w1_bus_master1/w1_master_slaves"
   ]
  },
  {
   "cell_type": "code",
   "execution_count": 1,
   "metadata": {
    "collapsed": false
   },
   "outputs": [
    {
     "name": "stdout",
     "output_type": "stream",
     "text": [
      "total 0\r\n",
      "lrwxrwxrwx 1 root root 0 Apr 15 07:48 28-000006b63824 -> ../../../devices/w1_bus_master1/28-000006b63824\r\n",
      "lrwxrwxrwx 1 root root 0 Apr 15 07:48 w1_bus_master1 -> ../../../devices/w1_bus_master1\r\n"
     ]
    }
   ],
   "source": [
    "!ls -lh /sys/bus/w1/devices"
   ]
  },
  {
   "cell_type": "code",
   "execution_count": 3,
   "metadata": {
    "collapsed": false
   },
   "outputs": [
    {
     "name": "stdout",
     "output_type": "stream",
     "text": [
      "b5 01 4b 46 7f ff 0b 10 a3 : crc=a3 YES\r\n",
      "b5 01 4b 46 7f ff 0b 10 a3 t=27312\r\n"
     ]
    }
   ],
   "source": [
    "!cat /sys/bus/w1/devices/28*/w1_slave"
   ]
  }
 ],
 "metadata": {
  "kernelspec": {
   "display_name": "Python 2",
   "language": "python",
   "name": "python2"
  },
  "language_info": {
   "codemirror_mode": {
    "name": "ipython",
    "version": 2
   },
   "file_extension": ".py",
   "mimetype": "text/x-python",
   "name": "python",
   "nbconvert_exporter": "python",
   "pygments_lexer": "ipython2",
   "version": "2.7.9"
  }
 },
 "nbformat": 4,
 "nbformat_minor": 0
}
