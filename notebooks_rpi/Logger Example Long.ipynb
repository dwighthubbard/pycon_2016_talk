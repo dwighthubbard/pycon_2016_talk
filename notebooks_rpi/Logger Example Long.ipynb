{
 "cells": [
  {
   "cell_type": "code",
   "execution_count": 1,
   "metadata": {
    "collapsed": false
   },
   "outputs": [],
   "source": [
    "with open('/boot/config.txt', 'a') as file_handle:\n",
    "    file_handle.write('\\ndtoverlay=w1-gpio\\n')"
   ]
  },
  {
   "cell_type": "code",
   "execution_count": 2,
   "metadata": {
    "collapsed": false
   },
   "outputs": [
    {
     "name": "stdout",
     "output_type": "stream",
     "text": [
      "96 01 4b 46 7f ff 0a 10 0a : crc=0a YES\r\n",
      "96 01 4b 46 7f ff 0a 10 0a t=25375\r\n"
     ]
    }
   ],
   "source": [
    "!cat /sys/bus/w1/devices/28*/w1_slave"
   ]
  },
  {
   "cell_type": "code",
   "execution_count": null,
   "metadata": {
    "collapsed": false
   },
   "outputs": [],
   "source": [
    "import glob\n",
    "import redislite\n",
    "from redis_collections import List as RedisList\n",
    "import time\n",
    "\n",
    "\n",
    "# Redis RDB backing filename\n",
    "# By specifying a redisrdb file to redislite we ensure\n",
    "# the data persists after the program exits.\n",
    "redisrdb = '/var/lib/redis/temp.rdb'\n",
    "\n",
    "# How frequently in seconds we want to get the temp readings\n",
    "frequency = 1\n",
    "last_reading = 0.0\n",
    "\n",
    "class DeviceReadError(Exception):\n",
    "    \"\"\"\n",
    "    Exception class for errors reading a device.  This allows\n",
    "    our program to be able to trap errors reading data from the\n",
    "    sensor.\n",
    "    \"\"\"\n",
    "    pass\n",
    "\n",
    "\n",
    "# Functions to read the temp sensor\n",
    "def read_temp_c():\n",
    "    \"\"\"\n",
    "    Read the temp in Celsius\n",
    "\n",
    "    Returns\n",
    "    -------\n",
    "    temp: float\n",
    "        The temp from the sensor in Celsius.\n",
    "\n",
    "    Raises\n",
    "    ------\n",
    "    DeviceReadError\n",
    "        Unable to read values from the temp sesnsor.\n",
    "    \"\"\"\n",
    "    base_dir = '/sys/bus/w1/devices/'\n",
    "    device_folder = glob.glob(base_dir + '28*')[0]\n",
    "    device_file = device_folder + '/w1_slave'\n",
    "\n",
    "    value = -1\n",
    "    with open(device_file) as file_handle:\n",
    "        lines = [line.strip().split()[-1] for line in file_handle.readlines()]\n",
    "    if lines[0] == \"YES\":\n",
    "        if lines[1].startswith('t='):\n",
    "            value = lines[1][2:]\n",
    "    if value == -1:\n",
    "        raise DeviceReadError('Unable to access temp sensor')\n",
    "    return float(value)/1000.0\n",
    "\n",
    "\n",
    "def read_temp_f():\n",
    "    \"\"\"\n",
    "    Read the temp in Fahrenheit\n",
    "\n",
    "    Returns\n",
    "    -------\n",
    "    temp: float\n",
    "        The temp from the sensor in Fahrenheit.\n",
    "    \"\"\"\n",
    "    return read_temp_c() * 9.0 / 5.0 + 32.0"
   ]
  },
  {
   "cell_type": "code",
   "execution_count": null,
   "metadata": {
    "collapsed": false
   },
   "outputs": [
    {
     "name": "stdout",
     "output_type": "stream",
     "text": [
      "('Temp F:', 77.7866, 'Hourly Average Temp F:', 77.7866)\n",
      "('Temp F:', 77.675, 'Hourly Average Temp F:', 77.7308)\n",
      "('Temp F:', 77.7866, 'Hourly Average Temp F:', 77.7122)\n",
      "('Temp F:', 77.7866, 'Hourly Average Temp F:', 77.7308)\n",
      "('Temp F:', 77.7866, 'Hourly Average Temp F:', 77.74196)\n",
      "('Temp F:', 77.7866, 'Hourly Average Temp F:', 77.74940000000001)\n",
      "('Temp F:', 77.7866, 'Hourly Average Temp F:', 77.75471428571429)\n",
      "('Temp F:', 77.675, 'Hourly Average Temp F:', 77.7587)\n",
      "('Temp F:', 77.675, 'Hourly Average Temp F:', 77.7494)\n",
      "('Temp F:', 77.675, 'Hourly Average Temp F:', 77.74195999999999)\n",
      "('Temp F:', 77.675, 'Hourly Average Temp F:', 77.73587272727272)\n",
      "('Temp F:', 77.675, 'Hourly Average Temp F:', 77.73079999999999)\n",
      "('Temp F:', 77.675, 'Hourly Average Temp F:', 77.7177846153846)\n",
      "('Temp F:', 77.675, 'Hourly Average Temp F:', 77.70662857142857)\n",
      "('Temp F:', 77.675, 'Hourly Average Temp F:', 77.69695999999999)\n",
      "('Temp F:', 77.5616, 'Hourly Average Temp F:', 77.68849999999999)\n",
      "('Temp F:', 77.5616, 'Hourly Average Temp F:', 77.68103529411763)\n",
      "('Temp F:', 77.5616, 'Hourly Average Temp F:', 77.67439999999999)\n",
      "('Temp F:', 77.5616, 'Hourly Average Temp F:', 77.66846315789473)\n",
      "('Temp F:', 77.675, 'Hourly Average Temp F:', 77.66878999999999)\n",
      "('Temp F:', 77.5616, 'Hourly Average Temp F:', 77.6636857142857)\n",
      "('Temp F:', 77.5616, 'Hourly Average Temp F:', 77.65904545454545)\n",
      "('Temp F:', 77.5616, 'Hourly Average Temp F:', 77.65480869565216)\n",
      "('Temp F:', 77.5616, 'Hourly Average Temp F:', 77.64627499999999)\n",
      "('Temp F:', 77.5616, 'Hourly Average Temp F:', 77.642888)\n",
      "('Temp F:', 77.5616, 'Hourly Average Temp F:', 77.63976153846153)\n",
      "('Temp F:', 77.675, 'Hourly Average Temp F:', 77.63686666666665)\n",
      "('Temp F:', 77.675, 'Hourly Average Temp F:', 77.63822857142857)\n"
     ]
    }
   ],
   "source": [
    "# Redis is key/value store.  It provides a way to store data \n",
    "# structures to a service that is seperate from the running \n",
    "# program.  Many of the data structures Redis can store are\n",
    "# nearly identical to standard Python built in data types such\n",
    "# as lists and dictionaries.  \n",
    "# We are using the RedisList object from the redis_collections \n",
    "# module to access Redis.  This provides us with a python \n",
    "# object that works almost exactly like a normal Python list, \n",
    "# except the information is stored in Redis.\n",
    "# This means the information in the list can persist between\n",
    "# program runs or be stored to mulitple Redis servers using\n",
    "# Redis repliataion.\n",
    "# Unlike SQL databases, the default Redis configuration will\n",
    "# do a single disk write operation every 15 minutes instead\n",
    "# every time data is written.  This significantly decreases\n",
    "# wear on flash/sd-card.\n",
    "# We are going to create two lists in Redis to store our temps\n",
    "# one for celsius and one for fahranheit.\n",
    "redis_connection = redislite.StrictRedis(redisrdb)\n",
    "temp_c_list = RedisList(redis=redis_connection, key='temp_c')\n",
    "temp_f_list = RedisList(redis=redis_connection, key='temp_f')\n",
    "\n",
    "del temp_c_list[:]\n",
    "del temp_f_list[:]\n",
    "\n",
    "# Now loop through \n",
    "while True:\n",
    "    temp_c_list.append(read_temp_c())\n",
    "    temp_f_list.append(read_temp_f())\n",
    "    print('Temp F:', read_temp_f(), 'Hourly Average Temp F:', sum(temp_f_list[-3600:])/len(temp_f_list[-3600:]))\n",
    "    time.sleep(frequency)\n"
   ]
  },
  {
   "cell_type": "code",
   "execution_count": null,
   "metadata": {
    "collapsed": true
   },
   "outputs": [],
   "source": []
  }
 ],
 "metadata": {
  "kernelspec": {
   "display_name": "Python 2",
   "language": "python",
   "name": "python2"
  },
  "language_info": {
   "codemirror_mode": {
    "name": "ipython",
    "version": 2
   },
   "file_extension": ".py",
   "mimetype": "text/x-python",
   "name": "python",
   "nbconvert_exporter": "python",
   "pygments_lexer": "ipython2",
   "version": "2.7.9"
  }
 },
 "nbformat": 4,
 "nbformat_minor": 0
}
