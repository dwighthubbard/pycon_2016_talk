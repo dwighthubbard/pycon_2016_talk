{
 "cells": [
  {
   "cell_type": "code",
   "execution_count": null,
   "metadata": {
    "collapsed": false
   },
   "outputs": [],
   "source": [
    "from redislite import StrictRedis\n",
    "from redis_collections import List\n",
    "from time import sleep\n",
    "\n",
    "def read_temp_c():\n",
    "    with open('/sys/bus/w1/devices/28-000006b63824/w1_slave') as device:\n",
    "        for line in device:\n",
    "            value = line.strip().split()[-1]\n",
    "            if value.startswith('t='):\n",
    "                return float(value[2:])/1000.0\n",
    "\n",
    "redis_connection = StrictRedis('/var/lib/temp.rdb')\n",
    "temp_readings = List(redis=redis_connection, key='temp_readings')\n",
    "while True:\n",
    "    temp_readings.append(read_temp_c())\n",
    "    print('Temp C:', temp_readings[-1])\n",
    "    sleep(1)"
   ]
  }
 ],
 "metadata": {
  "kernelspec": {
   "display_name": "Python 2",
   "language": "python",
   "name": "python2"
  },
  "language_info": {
   "codemirror_mode": {
    "name": "ipython",
    "version": 2
   },
   "file_extension": ".py",
   "mimetype": "text/x-python",
   "name": "python",
   "nbconvert_exporter": "python",
   "pygments_lexer": "ipython2",
   "version": "2.7.9"
  }
 },
 "nbformat": 4,
 "nbformat_minor": 0
}
