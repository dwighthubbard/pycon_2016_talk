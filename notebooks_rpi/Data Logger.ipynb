{
 "cells": [
  {
   "cell_type": "code",
   "execution_count": null,
   "metadata": {
    "collapsed": false
   },
   "outputs": [],
   "source": [
    "from redislite import StrictRedis\n",
    "from redis_collections import List\n",
    "from time import sleep\n",
    "\n",
    "DEVICE_ID = '28-000006b63824'\n",
    "def read_temp_c():\n",
    "    device_file = '/sys/bus/w1/devices/' + DEVICE_ID + '/w1_slave'\n",
    "    with open(device_file) as device:\n",
    "        for line in device:\n",
    "            if 't=' in line:\n",
    "                return float(line.split('=')[-1])/1000\n",
    "\n",
    "temp_readings = List(redis=StrictRedis('/var/lib/example1.rdb'), key='temp:'+DEVICE_ID)\n",
    "while True:\n",
    "    current_temp = read_temp_c()\n",
    "    temp_readings.append(current_temp)\n",
    "    print('Temp C:', current_temp)\n",
    "    sleep(1)"
   ]
  }
 ],
 "metadata": {
  "kernelspec": {
   "display_name": "Python 2",
   "language": "python",
   "name": "python2"
  },
  "language_info": {
   "codemirror_mode": {
    "name": "ipython",
    "version": 2
   },
   "file_extension": ".py",
   "mimetype": "text/x-python",
   "name": "python",
   "nbconvert_exporter": "python",
   "pygments_lexer": "ipython2",
   "version": "2.7.9"
  }
 },
 "nbformat": 4,
 "nbformat_minor": 0
}
