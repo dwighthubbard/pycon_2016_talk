{
 "cells": [
  {
   "cell_type": "code",
   "execution_count": null,
   "metadata": {
    "collapsed": false
   },
   "outputs": [
    {
     "name": "stdout",
     "output_type": "stream",
     "text": [
      "Temp C: 23.375\n",
      "Temp C: 23.437\n",
      "Temp C: 23.437\n",
      "Temp C: 23.125\n",
      "Temp C: 24.875\n",
      "Temp C: 25.562\n",
      "Temp C: 26.062\n",
      "Temp C: 26.375\n",
      "Temp C: 26.187\n",
      "Temp C: 25.812\n",
      "Temp C: 25.437\n",
      "Temp C: 25.187\n",
      "Temp C: 24.937\n",
      "Temp C: 24.812\n",
      "Temp C: 24.687\n",
      "Temp C: 24.562\n",
      "Temp C: 24.5\n",
      "Temp C: 24.437\n",
      "Temp C: 24.375\n",
      "Temp C: 24.312\n",
      "Temp C: 24.25\n",
      "Temp C: 24.125\n",
      "Temp C: 24.062\n",
      "Temp C: 24.0\n",
      "Temp C: 24.0\n",
      "Temp C: 23.937\n",
      "Temp C: 23.937\n",
      "Temp C: 23.875\n",
      "Temp C: 23.875\n",
      "Temp C: 23.875\n",
      "Temp C: 23.875\n",
      "Temp C: 23.875\n",
      "Temp C: 23.812\n",
      "Temp C: 23.812\n",
      "Temp C: 23.812\n",
      "Temp C: 23.812\n",
      "Temp C: 23.812\n",
      "Temp C: 23.812\n",
      "Temp C: 23.75\n",
      "Temp C: 23.687\n",
      "Temp C: 23.687\n",
      "Temp C: 23.687\n",
      "Temp C: 23.625\n",
      "Temp C: 23.687\n"
     ]
    }
   ],
   "source": [
    "from __future__ import print_function\n",
    "from redislite import StrictRedis\n",
    "from redis_collections import List\n",
    "from time import sleep\n",
    "\n",
    "DEVICE_ID = '28-000006b63824'\n",
    "def read_temp_c():\n",
    "    device_file = '/sys/bus/w1/devices/' + DEVICE_ID + '/w1_slave'\n",
    "    with open(device_file) as device:\n",
    "        for line in device:\n",
    "            if 't=' in line:\n",
    "                return float(line.split('=')[-1])/1000\n",
    "\n",
    "redis_connection = StrictRedis(\n",
    "    '/var/lib/example2.rdb', \n",
    "    serverconfig={'port': '8002', 'requirepass': 'secret'}\n",
    ")\n",
    "temp_readings = List(redis=redis_connection, key='temp:'+DEVICE_ID)\n",
    "while True:\n",
    "    temp_readings.append(read_temp_c())\n",
    "    print('Temp C:', temp_readings[-1])\n",
    "    sleep(1)"
   ]
  },
  {
   "cell_type": "code",
   "execution_count": null,
   "metadata": {
    "collapsed": true
   },
   "outputs": [],
   "source": []
  }
 ],
 "metadata": {
  "kernelspec": {
   "display_name": "Python 2",
   "language": "python",
   "name": "python2"
  },
  "language_info": {
   "codemirror_mode": {
    "name": "ipython",
    "version": 2
   },
   "file_extension": ".py",
   "mimetype": "text/x-python",
   "name": "python",
   "nbconvert_exporter": "python",
   "pygments_lexer": "ipython2",
   "version": "2.7.9"
  }
 },
 "nbformat": 4,
 "nbformat_minor": 0
}
