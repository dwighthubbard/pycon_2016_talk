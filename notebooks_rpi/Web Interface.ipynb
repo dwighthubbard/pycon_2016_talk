{
 "cells": [
  {
   "cell_type": "code",
   "execution_count": 2,
   "metadata": {
    "collapsed": false
   },
   "outputs": [
    {
     "name": "stderr",
     "output_type": "stream",
     "text": [
      "/var/virtualenvs/notebook/local/lib/python2.7/site-packages/bottle.py:380: RuntimeWarning: Route <GET /average_temp/<seconds>> overwrites a previously defined route\n",
      "  warnings.warn(msg % (method, rule), RuntimeWarning)\n",
      "Bottle v0.12.9 server starting up (using WSGIRefServer())...\n",
      "Listening on http://10.10.10.10:8080/\n",
      "Hit Ctrl-C to quit.\n",
      "\n",
      "10.10.10.1 - - [20/Apr/2016 02:38:51] \"GET / HTTP/1.1\" 200 61\n",
      "10.10.10.1 - - [20/Apr/2016 02:38:58] \"GET /average_temp HTTP/1.1\" 404 746\n",
      "Traceback (most recent call last):\n",
      "  File \"/var/virtualenvs/notebook/local/lib/python2.7/site-packages/bottle.py\", line 862, in _handle\n",
      "    return route.call(**args)\n",
      "  File \"/var/virtualenvs/notebook/local/lib/python2.7/site-packages/bottle.py\", line 1732, in wrapper\n",
      "    rv = callback(*a, **ka)\n",
      "  File \"<ipython-input-2-cbcd2e8d9d2d>\", line 19, in average_temp\n",
      "    return str(avg(temp_readings[-seconds:]))\n",
      "NameError: global name 'avg' is not defined\n",
      "10.10.10.1 - - [20/Apr/2016 02:39:06] \"GET /average_temp/ HTTP/1.1\" 500 1440\n"
     ]
    }
   ],
   "source": [
    "from bottle import route, run\n",
    "from redislite import StrictRedis\n",
    "from redis_collections import List\n",
    "\n",
    "DEVICE_ID = '28-000006b63824'\n",
    "temp_readings = List(redis=StrictRedis('/var/lib/example1.rdb'), key='temp:'+DEVICE_ID)\n",
    "\n",
    "@route('/')\n",
    "def current_temp():\n",
    "    return '<html><body>%d readings<br>%s current temp</body></html>' % (\n",
    "        len(temp_readings), str(temp_readings[-1])\n",
    "    )\n",
    "\n",
    "@route('/average_temp/')\n",
    "@route('/average_temp/<seconds>')\n",
    "def average_temp(seconds=3600):\n",
    "    seconds=int(seconds)\n",
    "    # return str(sum(temp_readings[-seconds:])/len(temp_readings[-seconds:]))\n",
    "    return str(avg(temp_readings[-seconds:]))\n",
    "    \n",
    "run(host='10.10.10.10', port=8080, debug=True)"
   ]
  },
  {
   "cell_type": "code",
   "execution_count": null,
   "metadata": {
    "collapsed": true
   },
   "outputs": [],
   "source": []
  }
 ],
 "metadata": {
  "kernelspec": {
   "display_name": "Python 2",
   "language": "python",
   "name": "python2"
  },
  "language_info": {
   "codemirror_mode": {
    "name": "ipython",
    "version": 2
   },
   "file_extension": ".py",
   "mimetype": "text/x-python",
   "name": "python",
   "nbconvert_exporter": "python",
   "pygments_lexer": "ipython2",
   "version": "2.7.9"
  }
 },
 "nbformat": 4,
 "nbformat_minor": 0
}
