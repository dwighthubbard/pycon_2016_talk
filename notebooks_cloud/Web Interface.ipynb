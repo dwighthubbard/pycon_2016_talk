{
 "cells": [
  {
   "cell_type": "code",
   "execution_count": null,
   "metadata": {
    "collapsed": false
   },
   "outputs": [],
   "source": [
    "from bottle import route, run\n",
    "from redislite import StrictRedis\n",
    "from redis_collections import List\n",
    "\n",
    "DEVICE_ID = '28-000006b63824'\n",
    "redis_connection = StrictRedis(\n",
    "    '/tmp/example1.rdb',\n",
    "    serverconfig={'slaveof': '10.10.10.10 8002', 'masterauth': 'secret'}\n",
    ")\n",
    "temp_readings = List(redis=redis_connection, key='temp:'+DEVICE_ID)\n",
    "\n",
    "@route('/')\n",
    "def current_temp():\n",
    "    return '<html><body>%d readings<br>%s current temp</body></html>' % (\n",
    "        len(temp_readings), str(temp_readings[-1])\n",
    "    )\n",
    "\n",
    "run(host='127.0.0.1', port=8080, debug=True)"
   ]
  }
 ],
 "metadata": {
  "kernelspec": {
   "display_name": "Python 2",
   "language": "python",
   "name": "python2"
  },
  "language_info": {
   "codemirror_mode": {
    "name": "ipython",
    "version": 2
   },
   "file_extension": ".py",
   "mimetype": "text/x-python",
   "name": "python",
   "nbconvert_exporter": "python",
   "pygments_lexer": "ipython2",
   "version": "2.7.11+"
  }
 },
 "nbformat": 4,
 "nbformat_minor": 0
}
